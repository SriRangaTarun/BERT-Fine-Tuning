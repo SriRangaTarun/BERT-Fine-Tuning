{
 "cells": [
  {
   "cell_type": "markdown",
   "execution_count": null,
   "metadata": {},
   "source": [
    "<img src=\"https://i.imgur.com/I08M6KP.png\" width=\"600px\">"
   ]
  },
  {
   "cell_type": "markdown",
   "execution_count": null,
   "metadata": {},
   "source": [
    "# Introduction\n",
    "\n",
    "In this project, I will try to finetune a roBERTa base transformer model to predict whether a Quora question is sincere or insincere. An insincere question is defined as a question intended to make a statement rather than look for helpful answers. Some characteristics that can signify that a question is insincere:\n",
    "\n",
    "* Has a non-neutral tone\n",
    "  * Has an exaggerated tone to underscore a point about a group of people\n",
    "  * Is rhetorical and meant to imply a statement about a group of people\n",
    "  \n",
    "\n",
    "* Is disparaging or inflammatory\n",
    "  * Suggests a discriminatory idea against a protected class of people, or seeks confirmation of a stereotype\n",
    "  * Makes disparaging attacks/insults against a specific person or group of people\n",
    "  * Based on an outlandish premise about a group of people\n",
    "  * Disparages against a characteristic that is not fixable and not measurable\n",
    "  \n",
    "\n",
    "* Isn't grounded in reality\n",
    "  * Based on false information, or contains absurd assumptions\n",
    "  \n",
    "\n",
    "* Uses sexual content (incest, bestiality, pedophilia) for shock value, and not to seek genuine answers\n",
    "\n",
    "Solving this problem will help combat online trolls at scale and help Quora uphold their policy of “Be Nice, Be Respectful” and continue to be a place for sharing and growing the world’s knowledge. I will use **PyTorch XLA** (PyTorch for TPUs) and **huggingface transformers** for this project."
   ]
  },
  {
   "cell_type": "markdown",
   "execution_count": null,
   "metadata": {},
   "source": [
    "## Set up PyTorch-XLA\n",
    "\n",
    "* These few lines of code sets up PyTorch XLA for us.\n",
    "* We need PyTorch XLA to help us train PyTorch models on TPU."
   ]
  },
  {
   "cell_type": "code",
   "execution_count": 1,
   "metadata": {
    "_kg_hide-input": true,
    "_kg_hide-output": true
   },
   "outputs": [
    {
     "name": "stdout",
     "output_type": "stream",
     "text": [
      "  % Total    % Received % Xferd  Average Speed   Time    Time     Time  Current\r\n",
      "                                 Dload  Upload   Total   Spent    Left  Speed\r\n",
      "100  4264  100  4264    0     0  18701      0 --:--:-- --:--:-- --:--:-- 18701\r\n",
      "Updating TPU and VM. This may take around 2 minutes.\r\n",
      "Updating TPU runtime to pytorch-nightly ...\r\n",
      "Found existing installation: torch 1.5.0\r\n",
      "Uninstalling torch-1.5.0:\r\n",
      "Done updating TPU runtime: <Response [200]>\r\n",
      "  Successfully uninstalled torch-1.5.0\r\n",
      "Found existing installation: torchvision 0.6.0a0+82fd1c8\r\n",
      "Uninstalling torchvision-0.6.0a0+82fd1c8:\r\n",
      "  Successfully uninstalled torchvision-0.6.0a0+82fd1c8\r\n",
      "Copying gs://tpu-pytorch/wheels/torch-nightly-cp37-cp37m-linux_x86_64.whl...\r\n",
      "\r\n",
      "Operation completed over 1 objects/91.1 MiB.                                     \r\n",
      "Copying gs://tpu-pytorch/wheels/torch_xla-nightly-cp37-cp37m-linux_x86_64.whl...\r\n",
      "\r\n",
      "Operation completed over 1 objects/120.3 MiB.                                    \r\n",
      "Copying gs://tpu-pytorch/wheels/torchvision-nightly-cp37-cp37m-linux_x86_64.whl...\r\n",
      "\r\n",
      "Operation completed over 1 objects/2.3 MiB.                                      \r\n",
      "Processing ./torch-nightly-cp37-cp37m-linux_x86_64.whl\r\n",
      "Requirement already satisfied: future in /opt/conda/lib/python3.7/site-packages (from torch==nightly) (0.18.2)\r\n",
      "Requirement already satisfied: numpy in /opt/conda/lib/python3.7/site-packages (from torch==nightly) (1.18.1)\r\n",
      "\u001b[31mERROR: fastai 1.0.61 requires torchvision, which is not installed.\u001b[0m\r\n",
      "\u001b[31mERROR: kornia 0.3.1 has requirement torch==1.5.0, but you'll have torch 1.6.0a0+1465970 which is incompatible.\u001b[0m\r\n",
      "\u001b[31mERROR: allennlp 0.9.0 has requirement spacy<2.2,>=2.1.0, but you'll have spacy 2.2.3 which is incompatible.\u001b[0m\r\n",
      "Installing collected packages: torch\r\n",
      "Successfully installed torch-1.6.0a0+1465970\r\n",
      "\u001b[33mWARNING: You are using pip version 20.1; however, version 20.1.1 is available.\r\n",
      "You should consider upgrading via the '/opt/conda/bin/python3.7 -m pip install --upgrade pip' command.\u001b[0m\r\n",
      "Processing ./torch_xla-nightly-cp37-cp37m-linux_x86_64.whl\r\n",
      "Installing collected packages: torch-xla\r\n",
      "Successfully installed torch-xla-1.6+200fb37\r\n",
      "\u001b[33mWARNING: You are using pip version 20.1; however, version 20.1.1 is available.\r\n",
      "You should consider upgrading via the '/opt/conda/bin/python3.7 -m pip install --upgrade pip' command.\u001b[0m\r\n",
      "Processing ./torchvision-nightly-cp37-cp37m-linux_x86_64.whl\r\n",
      "Requirement already satisfied: torch in /opt/conda/lib/python3.7/site-packages (from torchvision==nightly) (1.6.0a0+1465970)\r\n",
      "Requirement already satisfied: numpy in /opt/conda/lib/python3.7/site-packages (from torchvision==nightly) (1.18.1)\r\n",
      "Requirement already satisfied: pillow>=4.1.1 in /opt/conda/lib/python3.7/site-packages (from torchvision==nightly) (5.4.1)\r\n",
      "Requirement already satisfied: future in /opt/conda/lib/python3.7/site-packages (from torch->torchvision==nightly) (0.18.2)\r\n",
      "Installing collected packages: torchvision\r\n",
      "Successfully installed torchvision-0.7.0a0+e6b4078\r\n",
      "\u001b[33mWARNING: You are using pip version 20.1; however, version 20.1.1 is available.\r\n",
      "You should consider upgrading via the '/opt/conda/bin/python3.7 -m pip install --upgrade pip' command.\u001b[0m\r\n",
      "\r\n",
      "\r\n",
      "\r\n",
      "The following additional packages will be installed:\r\n",
      "  libgfortran4 libopenblas-base\r\n",
      "The following NEW packages will be installed:\r\n",
      "  libgfortran4 libomp5 libopenblas-base libopenblas-dev\r\n",
      "0 upgraded, 4 newly installed, 0 to remove and 17 not upgraded.\r\n",
      "Need to get 8550 kB of archives.\r\n",
      "After this operation, 97.6 MB of additional disk space will be used.\r\n",
      "Get:1 http://archive.ubuntu.com/ubuntu bionic-updates/main amd64 libgfortran4 amd64 7.5.0-3ubuntu1~18.04 [492 kB]\r\n",
      "Get:2 http://archive.ubuntu.com/ubuntu bionic/universe amd64 libopenblas-base amd64 0.2.20+ds-4 [3964 kB]\r\n",
      "Get:3 http://archive.ubuntu.com/ubuntu bionic/universe amd64 libopenblas-dev amd64 0.2.20+ds-4 [3860 kB]\r\n",
      "Get:4 http://archive.ubuntu.com/ubuntu bionic/universe amd64 libomp5 amd64 5.0.1-1 [234 kB]\r\n",
      "Fetched 8550 kB in 0s (36.3 MB/s)\r\n",
      "debconf: delaying package configuration, since apt-utils is not installed\r\n",
      "Selecting previously unselected package libgfortran4:amd64.\r\n",
      "(Reading database ... 105807 files and directories currently installed.)\r\n",
      "Preparing to unpack .../libgfortran4_7.5.0-3ubuntu1~18.04_amd64.deb ...\r\n",
      "Unpacking libgfortran4:amd64 (7.5.0-3ubuntu1~18.04) ...\r\n",
      "Selecting previously unselected package libopenblas-base:amd64.\r\n",
      "Preparing to unpack .../libopenblas-base_0.2.20+ds-4_amd64.deb ...\r\n",
      "Unpacking libopenblas-base:amd64 (0.2.20+ds-4) ...\r\n",
      "Selecting previously unselected package libopenblas-dev:amd64.\r\n",
      "Preparing to unpack .../libopenblas-dev_0.2.20+ds-4_amd64.deb ...\r\n",
      "Unpacking libopenblas-dev:amd64 (0.2.20+ds-4) ...\r\n",
      "Selecting previously unselected package libomp5:amd64.\r\n",
      "Preparing to unpack .../libomp5_5.0.1-1_amd64.deb ...\r\n",
      "Unpacking libomp5:amd64 (5.0.1-1) ...\r\n",
      "Setting up libomp5:amd64 (5.0.1-1) ...\r\n",
      "Setting up libgfortran4:amd64 (7.5.0-3ubuntu1~18.04) ...\r\n",
      "Setting up libopenblas-base:amd64 (0.2.20+ds-4) ...\r\n",
      "update-alternatives: using /usr/lib/x86_64-linux-gnu/openblas/libblas.so.3 to provide /usr/lib/x86_64-linux-gnu/libblas.so.3 (libblas.so.3-x86_64-linux-gnu) in auto mode\r\n",
      "update-alternatives: using /usr/lib/x86_64-linux-gnu/openblas/liblapack.so.3 to provide /usr/lib/x86_64-linux-gnu/liblapack.so.3 (liblapack.so.3-x86_64-linux-gnu) in auto mode\r\n",
      "Setting up libopenblas-dev:amd64 (0.2.20+ds-4) ...\r\n",
      "update-alternatives: using /usr/lib/x86_64-linux-gnu/openblas/libblas.so to provide /usr/lib/x86_64-linux-gnu/libblas.so (libblas.so-x86_64-linux-gnu) in auto mode\r\n",
      "update-alternatives: using /usr/lib/x86_64-linux-gnu/openblas/liblapack.so to provide /usr/lib/x86_64-linux-gnu/liblapack.so (liblapack.so-x86_64-linux-gnu) in auto mode\r\n",
      "Processing triggers for libc-bin (2.27-3ubuntu1) ...\r\n",
      "\u001b[33mWARNING: You are using pip version 20.1; however, version 20.1.1 is available.\r\n",
      "You should consider upgrading via the '/opt/conda/bin/python3.7 -m pip install --upgrade pip' command.\u001b[0m\r\n"
     ]
    }
   ],
   "source": [
    "!export PIP_DISABLE_PIP_VERSION_CHECK=1\n",
    "!curl https://raw.githubusercontent.com/pytorch/xla/master/contrib/scripts/env-setup.py -o pytorch-xla-env-setup.py\n",
    "!python pytorch-xla-env-setup.py --version nightly --apt-packages libomp5 libopenblas-dev\n",
    "!export XLA_USE_BF16=1\n",
    "!pip install -q colored"
   ]
  },
  {
   "cell_type": "markdown",
   "execution_count": null,
   "metadata": {},
   "source": [
    "## Install and import libraries\n",
    "\n",
    "* We will import several different packages and libraries required for different parts of the project. For example, we import numpy and pandas for data manipulation, torch and torch_xla for modeling, and matplotlib for visualization."
   ]
  },
  {
   "cell_type": "code",
   "execution_count": 2,
   "metadata": {
    "_cell_guid": "b1076dfc-b9ad-4769-8c92-a6c4dae69d19",
    "_uuid": "8f2839f25d086af736a60e9eeb907d3b93b6e0e5"
   },
   "outputs": [
    {
     "name": "stderr",
     "output_type": "stream",
     "text": [
      "Using TensorFlow backend.\n"
     ]
    }
   ],
   "source": [
    "import os\n",
    "import gc\n",
    "import time\n",
    "import colored\n",
    "import numpy as np\n",
    "import pandas as pd\n",
    "import matplotlib.pyplot as plt\n",
    "from colored import fg, bg, attr\n",
    "\n",
    "import torch\n",
    "import torch.nn as nn\n",
    "from torch.optim import Adam\n",
    "from torch import LongTensor, FloatTensor, DoubleTensor\n",
    "from torch.utils.data import Dataset, DataLoader, sampler\n",
    "from torch.utils.data.distributed import DistributedSampler\n",
    "\n",
    "import torch_xla.core.xla_model as xm\n",
    "import torch_xla.distributed.parallel_loader as pl\n",
    "import torch_xla.distributed.xla_multiprocessing as xmp\n",
    "\n",
    "from tqdm.notebook import tqdm\n",
    "from sklearn.utils import shuffle\n",
    "from transformers import RobertaModel, RobertaTokenizer\n",
    "\n",
    "from keras.utils import to_categorical\n",
    "from keras.preprocessing.sequence import pad_sequences as pad"
   ]
  },
  {
   "cell_type": "markdown",
   "execution_count": null,
   "metadata": {},
   "source": [
    "## Define hyperparameters and load data\n",
    "\n",
    "* Here, we define the required hyperparameters such as the training batch size, learning rate, training/validation split percentage, etc.\n",
    "* We also load the training and tessting data required for the project using the read_csv function from the pandas library."
   ]
  },
  {
   "cell_type": "code",
   "execution_count": 3,
   "metadata": {
    "_cell_guid": "79c7e3d0-c299-4dcb-8224-4455121ee9b0",
    "_uuid": "d629ff2d2480ee46fbb7e2d37f6b5fab8052498a"
   },
   "outputs": [],
   "source": [
    "EPOCHS = 2\n",
    "SPLIT = 0.8\n",
    "DROP_RATE = 0.3\n",
    "MAXLEN = 64 # 70\n",
    "LR = (4e-5, 1e-2)\n",
    "BATCH_SIZE = 256\n",
    "VAL_BATCH_SIZE = 8192\n",
    "MODEL_SAVE_PATH = 'insincerity_model.pt'"
   ]
  },
  {
   "cell_type": "code",
   "execution_count": 4,
   "metadata": {},
   "outputs": [
    {
     "data": {
      "text/plain": [
       "<torch._C.Generator at 0x7f4e8085fbb0>"
      ]
     },
     "execution_count": 4,
     "metadata": {},
     "output_type": "execute_result"
    }
   ],
   "source": [
    "np.random.seed(42)\n",
    "torch.manual_seed(42)"
   ]
  },
  {
   "cell_type": "code",
   "execution_count": 5,
   "metadata": {},
   "outputs": [],
   "source": [
    "test_df = pd.read_csv('../input/quora-insincere-questions-classification/test.csv')\n",
    "train_df = pd.read_csv('../input/quora-insincere-questions-classification/train.csv')"
   ]
  },
  {
   "cell_type": "code",
   "execution_count": 6,
   "metadata": {},
   "outputs": [
    {
     "data": {
      "text/html": [
       "<div>\n",
       "<style scoped>\n",
       "    .dataframe tbody tr th:only-of-type {\n",
       "        vertical-align: middle;\n",
       "    }\n",
       "\n",
       "    .dataframe tbody tr th {\n",
       "        vertical-align: top;\n",
       "    }\n",
       "\n",
       "    .dataframe thead th {\n",
       "        text-align: right;\n",
       "    }\n",
       "</style>\n",
       "<table border=\"1\" class=\"dataframe\">\n",
       "  <thead>\n",
       "    <tr style=\"text-align: right;\">\n",
       "      <th></th>\n",
       "      <th>qid</th>\n",
       "      <th>question_text</th>\n",
       "    </tr>\n",
       "  </thead>\n",
       "  <tbody>\n",
       "    <tr>\n",
       "      <th>0</th>\n",
       "      <td>0000163e3ea7c7a74cd7</td>\n",
       "      <td>Why do so many women become so rude and arroga...</td>\n",
       "    </tr>\n",
       "    <tr>\n",
       "      <th>1</th>\n",
       "      <td>00002bd4fb5d505b9161</td>\n",
       "      <td>When should I apply for RV college of engineer...</td>\n",
       "    </tr>\n",
       "    <tr>\n",
       "      <th>2</th>\n",
       "      <td>00007756b4a147d2b0b3</td>\n",
       "      <td>What is it really like to be a nurse practitio...</td>\n",
       "    </tr>\n",
       "    <tr>\n",
       "      <th>3</th>\n",
       "      <td>000086e4b7e1c7146103</td>\n",
       "      <td>Who are entrepreneurs?</td>\n",
       "    </tr>\n",
       "    <tr>\n",
       "      <th>4</th>\n",
       "      <td>0000c4c3fbe8785a3090</td>\n",
       "      <td>Is education really making good people nowadays?</td>\n",
       "    </tr>\n",
       "  </tbody>\n",
       "</table>\n",
       "</div>"
      ],
      "text/plain": [
       "                    qid                                      question_text\n",
       "0  0000163e3ea7c7a74cd7  Why do so many women become so rude and arroga...\n",
       "1  00002bd4fb5d505b9161  When should I apply for RV college of engineer...\n",
       "2  00007756b4a147d2b0b3  What is it really like to be a nurse practitio...\n",
       "3  000086e4b7e1c7146103                             Who are entrepreneurs?\n",
       "4  0000c4c3fbe8785a3090   Is education really making good people nowadays?"
      ]
     },
     "execution_count": 6,
     "metadata": {},
     "output_type": "execute_result"
    }
   ],
   "source": [
    "test_df.head()"
   ]
  },
  {
   "cell_type": "code",
   "execution_count": 7,
   "metadata": {},
   "outputs": [
    {
     "data": {
      "text/html": [
       "<div>\n",
       "<style scoped>\n",
       "    .dataframe tbody tr th:only-of-type {\n",
       "        vertical-align: middle;\n",
       "    }\n",
       "\n",
       "    .dataframe tbody tr th {\n",
       "        vertical-align: top;\n",
       "    }\n",
       "\n",
       "    .dataframe thead th {\n",
       "        text-align: right;\n",
       "    }\n",
       "</style>\n",
       "<table border=\"1\" class=\"dataframe\">\n",
       "  <thead>\n",
       "    <tr style=\"text-align: right;\">\n",
       "      <th></th>\n",
       "      <th>qid</th>\n",
       "      <th>question_text</th>\n",
       "      <th>target</th>\n",
       "    </tr>\n",
       "  </thead>\n",
       "  <tbody>\n",
       "    <tr>\n",
       "      <th>0</th>\n",
       "      <td>00002165364db923c7e6</td>\n",
       "      <td>How did Quebec nationalists see their province...</td>\n",
       "      <td>0</td>\n",
       "    </tr>\n",
       "    <tr>\n",
       "      <th>1</th>\n",
       "      <td>000032939017120e6e44</td>\n",
       "      <td>Do you have an adopted dog, how would you enco...</td>\n",
       "      <td>0</td>\n",
       "    </tr>\n",
       "    <tr>\n",
       "      <th>2</th>\n",
       "      <td>0000412ca6e4628ce2cf</td>\n",
       "      <td>Why does velocity affect time? Does velocity a...</td>\n",
       "      <td>0</td>\n",
       "    </tr>\n",
       "    <tr>\n",
       "      <th>3</th>\n",
       "      <td>000042bf85aa498cd78e</td>\n",
       "      <td>How did Otto von Guericke used the Magdeburg h...</td>\n",
       "      <td>0</td>\n",
       "    </tr>\n",
       "    <tr>\n",
       "      <th>4</th>\n",
       "      <td>0000455dfa3e01eae3af</td>\n",
       "      <td>Can I convert montra helicon D to a mountain b...</td>\n",
       "      <td>0</td>\n",
       "    </tr>\n",
       "  </tbody>\n",
       "</table>\n",
       "</div>"
      ],
      "text/plain": [
       "                    qid                                      question_text  \\\n",
       "0  00002165364db923c7e6  How did Quebec nationalists see their province...   \n",
       "1  000032939017120e6e44  Do you have an adopted dog, how would you enco...   \n",
       "2  0000412ca6e4628ce2cf  Why does velocity affect time? Does velocity a...   \n",
       "3  000042bf85aa498cd78e  How did Otto von Guericke used the Magdeburg h...   \n",
       "4  0000455dfa3e01eae3af  Can I convert montra helicon D to a mountain b...   \n",
       "\n",
       "   target  \n",
       "0       0  \n",
       "1       0  \n",
       "2       0  \n",
       "3       0  \n",
       "4       0  "
      ]
     },
     "execution_count": 7,
     "metadata": {},
     "output_type": "execute_result"
    }
   ],
   "source": [
    "train_df.head()"
   ]
  },
  {
   "cell_type": "markdown",
   "execution_count": null,
   "metadata": {},
   "source": [
    "## Define PyTorch Dataset\n",
    "\n",
    "* Now we define a PyTorch Dataset which will help us feed data to the roBERTa model for training and inference.\n",
    "* We remove leading and trailing whitespaces using .strip(), tokenize the values using huggingface, and pad the tokens using keras."
   ]
  },
  {
   "cell_type": "code",
   "execution_count": 8,
   "metadata": {},
   "outputs": [],
   "source": [
    "class QuoraDataset(Dataset):\n",
    "    def __init__(self, data, tokenizer):\n",
    "        self.data = data\n",
    "        self.target = data.target\n",
    "        self.tokenizer = tokenizer\n",
    "        self.text = data.question_text\n",
    "\n",
    "    def __len__(self):\n",
    "        return len(self.data)\n",
    "\n",
    "    def __getitem__(self, i):\n",
    "        pg, tg = 'post', 'post'\n",
    "        target = [self.target[i]]\n",
    "        question = str(self.text[i])\n",
    "        quest_ids = self.tokenizer.encode(question.strip())\n",
    "\n",
    "        attention_mask_idx = len(quest_ids) - 1\n",
    "        if 0 not in quest_ids: quest_ids = 0 + quest_ids\n",
    "        quest_ids = pad([quest_ids], maxlen=MAXLEN, value=1, padding=pg, truncating=tg)\n",
    "\n",
    "        attention_mask = np.zeros(MAXLEN)\n",
    "        attention_mask[1:attention_mask_idx] = 1\n",
    "        attention_mask = attention_mask.reshape((1, -1))\n",
    "        if 2 not in quest_ids: quest_ids[-1], attention_mask[-1] = 2, 0\n",
    "        return FloatTensor(target), LongTensor(quest_ids), LongTensor(attention_mask)"
   ]
  },
  {
   "cell_type": "markdown",
   "execution_count": null,
   "metadata": {},
   "source": [
    "## Define tokenizer\n",
    "\n",
    "* Here we simply define the RobertaTokenizer from huggingface which we use in the Dataset to generate tokens from words."
   ]
  },
  {
   "cell_type": "code",
   "execution_count": 9,
   "metadata": {},
   "outputs": [
    {
     "data": {
      "application/vnd.jupyter.widget-view+json": {
       "model_id": "f986aa0ebe8048fc9ab02e7c836501eb",
       "version_major": 2,
       "version_minor": 0
      },
      "text/plain": [
       "HBox(children=(FloatProgress(value=0.0, description='Downloading', max=898823.0, style=ProgressStyle(descripti…"
      ]
     },
     "metadata": {},
     "output_type": "display_data"
    },
    {
     "name": "stdout",
     "output_type": "stream",
     "text": [
      "\n"
     ]
    },
    {
     "data": {
      "application/vnd.jupyter.widget-view+json": {
       "model_id": "78dbd8986f0146f9b413d2065ac146d5",
       "version_major": 2,
       "version_minor": 0
      },
      "text/plain": [
       "HBox(children=(FloatProgress(value=0.0, description='Downloading', max=456318.0, style=ProgressStyle(descripti…"
      ]
     },
     "metadata": {},
     "output_type": "display_data"
    },
    {
     "name": "stdout",
     "output_type": "stream",
     "text": [
      "\n"
     ]
    }
   ],
   "source": [
    "model = 'roberta-base'\n",
    "tokenizer = RobertaTokenizer.from_pretrained(model)"
   ]
  },
  {
   "cell_type": "markdown",
   "execution_count": null,
   "metadata": {},
   "source": [
    "## Define roBERTa-base model\n",
    "\n",
    "* Now, we get to the interesting part: training roBERTa base! roBERTa base is a pretrained language model developed by Facebook AI.\n",
    "* We will use roBERTa with its pretrained weights and add a custom (Dropout + Dense) head at the top to turn it into a binary text classifier."
   ]
  },
  {
   "cell_type": "code",
   "execution_count": 10,
   "metadata": {},
   "outputs": [],
   "source": [
    "class Roberta(nn.Module):\n",
    "    def __init__(self):\n",
    "        super(Roberta, self).__init__()\n",
    "        self.dropout = nn.Dropout(DROP_RATE)\n",
    "        self.dense_output = nn.Linear(768, 1)\n",
    "        self.roberta = RobertaModel.from_pretrained(model)\n",
    "\n",
    "    def forward(self, inp, att):\n",
    "        inp = inp.view(-1, MAXLEN)\n",
    "        _, self.feat = self.roberta(inp, att)\n",
    "        return self.dense_output(self.dropout(self.feat))"
   ]
  },
  {
   "cell_type": "code",
   "execution_count": 11,
   "metadata": {
    "_kg_hide-input": true
   },
   "outputs": [
    {
     "data": {
      "application/vnd.jupyter.widget-view+json": {
       "model_id": "1a113897445e488b8bed6b89ddee5940",
       "version_major": 2,
       "version_minor": 0
      },
      "text/plain": [
       "HBox(children=(FloatProgress(value=0.0, description='Downloading', max=481.0, style=ProgressStyle(description_…"
      ]
     },
     "metadata": {},
     "output_type": "display_data"
    },
    {
     "name": "stdout",
     "output_type": "stream",
     "text": [
      "\n"
     ]
    },
    {
     "data": {
      "application/vnd.jupyter.widget-view+json": {
       "model_id": "88568e3cc464429d80edf3fa94e056bf",
       "version_major": 2,
       "version_minor": 0
      },
      "text/plain": [
       "HBox(children=(FloatProgress(value=0.0, description='Downloading', max=501200538.0, style=ProgressStyle(descri…"
      ]
     },
     "metadata": {},
     "output_type": "display_data"
    },
    {
     "name": "stdout",
     "output_type": "stream",
     "text": [
      "\n"
     ]
    }
   ],
   "source": [
    "m = Roberta()"
   ]
  },
  {
   "cell_type": "code",
   "execution_count": 12,
   "metadata": {
    "_kg_hide-input": true,
    "_kg_hide-output": true
   },
   "outputs": [
    {
     "data": {
      "text/plain": [
       "488"
      ]
     },
     "execution_count": 12,
     "metadata": {},
     "output_type": "execute_result"
    }
   ],
   "source": [
    "del m; gc.collect()"
   ]
  },
  {
   "cell_type": "markdown",
   "execution_count": null,
   "metadata": {},
   "source": [
    "## Define binary cross entropy and F1 score in PyTorch\n",
    "\n",
    "* Here we implement binary cross entropy and F1 score functions in PyTorch.\n",
    "* BCE is the loss function which is commonly used in binary classification tasks and helps us finetune roBERTa's weights.\n",
    "* F1 Score is an evaluation metric ranging from 0 to 1, and we use it instead of accuracy because it is immune to class imabalance.\n",
    "* Our dataset is almost 93% sincere and 7% insincere. This extreme imbalance makes accuracy an unreliable metric and thus, F1 Score.\n",
    "\n"
   ]
  },
  {
   "cell_type": "code",
   "execution_count": 13,
   "metadata": {},
   "outputs": [],
   "source": [
    "def bce(y_pred, y_true):\n",
    "    return nn.BCEWithLogitsLoss()(y_pred, y_true)*len(y_pred)\n",
    "\n",
    "def f1_score(y_pred, y_true):\n",
    "    y_true = y_true.squeeze()\n",
    "    y_pred = torch.round(nn.Sigmoid()(y_pred)).squeeze()\n",
    "    \n",
    "    tp = (y_true * y_pred).sum().to(torch.float32)\n",
    "    fp = ((1 - y_true) * y_pred).sum().to(torch.float32)\n",
    "    fn = (y_true * (1 - y_pred)).sum().to(torch.float32)\n",
    "    tn = ((1 - y_true) * (1 - y_pred)).sum().to(torch.float32)\n",
    "    \n",
    "    epsilon = 1e-7\n",
    "    recall = tp / (tp + fn + epsilon)\n",
    "    precision = tp / (tp + fp + epsilon)\n",
    "    return 2*(precision*recall) / (precision + recall + epsilon)"
   ]
  },
  {
   "cell_type": "markdown",
   "execution_count": null,
   "metadata": {},
   "source": [
    "## Split data and train model on all 8 TPU cores\n",
    "\n",
    "* Now, we will train the roBERTa base model to classify tweet sentiments.\n",
    "* We define a simple training loop in PyTorch to train the model and validate it after each epoch.\n",
    "* We parallelize the training on all 8 TPU cores using <code>xmp.spawn</code> from PyTorch XLA (distributes training).\n",
    "* We aslo use <code>DistributedSampler</code> and <code>ParallelLoader</code> to parallelize data sampling and model training."
   ]
  },
  {
   "cell_type": "code",
   "execution_count": 14,
   "metadata": {
    "_kg_hide-input": true
   },
   "outputs": [],
   "source": [
    "def print_metric(data, batch, epoch, start, end, metric, typ):\n",
    "    t = typ, metric, \"%s\", data, \"%s\"\n",
    "    if typ == \"Train\": pre = \"BATCH %s\" + str(batch-1) + \"%s  \"\n",
    "    if typ == \"Val\": pre = \"\\nEPOCH %s\" + str(epoch+1) + \"%s  \"\n",
    "    time = np.round(end - start, 1); time = \"Time: %s{}%s s\".format(time)\n",
    "    fs = [(fg(211), attr('reset')), (fg(212), attr('reset')), (fg(213), attr('reset'))]\n",
    "    xm.master_print(pre % fs[0] + \"{} {}: {}{}{}\".format(*t) % fs[1] + \"  \" + time % fs[2])"
   ]
  },
  {
   "cell_type": "code",
   "execution_count": 15,
   "metadata": {},
   "outputs": [],
   "source": [
    "global val_f1s; global train_f1s\n",
    "global val_losses; global train_losses\n",
    "\n",
    "def train_fn(df):\n",
    "    size = 1; torch.manual_seed(42)\n",
    "\n",
    "    df = shuffle(df)\n",
    "    split = np.int32(SPLIT*len(df))\n",
    "    val_df, train_df = df[split:], df[:split]\n",
    "\n",
    "    val_df = val_df.reset_index(drop=True)\n",
    "    val_set = QuoraDataset(val_df, tokenizer)\n",
    "    val_sampler = DistributedSampler(val_set, num_replicas=8,\n",
    "                                     rank=xm.get_ordinal(), shuffle=True)\n",
    "\n",
    "    train_df = train_df.reset_index(drop=True)\n",
    "    train_set = QuoraDataset(train_df, tokenizer)\n",
    "    train_sampler = DistributedSampler(train_set, num_replicas=8,\n",
    "                                       rank=xm.get_ordinal(), shuffle=True)\n",
    "    \n",
    "    val_loader = DataLoader(val_set, VAL_BATCH_SIZE,\n",
    "                            sampler=val_sampler, num_workers=0, drop_last=True)\n",
    "\n",
    "    train_loader = DataLoader(train_set, BATCH_SIZE,\n",
    "                              sampler=train_sampler, num_workers=0, drop_last=True)\n",
    "\n",
    "    device = xm.xla_device()\n",
    "    network = Roberta().to(device)\n",
    "    optimizer = Adam([{'params': network.roberta.parameters(), 'lr': LR[0]*size},\n",
    "                      {'params': network.dense_output.parameters(), 'lr': LR[1]*size}])\n",
    "\n",
    "    val_losses, val_f1s = [], []\n",
    "    train_losses, train_f1s = [], []\n",
    "    \n",
    "    start = time.time()\n",
    "    xm.master_print(\"STARTING TRAINING ...\\n\")\n",
    "\n",
    "    for epoch in range(EPOCHS):\n",
    "\n",
    "        batch = 1\n",
    "        network.train()\n",
    "        fs = (fg(48), attr('reset'))\n",
    "        xm.master_print((\"EPOCH %s\" + str(epoch+1) + \"%s\") % fs)\n",
    "\n",
    "        val_parallel = pl.ParallelLoader(val_loader, [device]).per_device_loader(device)\n",
    "        train_parallel = pl.ParallelLoader(train_loader, [device]).per_device_loader(device)\n",
    "        \n",
    "        for train_batch in train_parallel:\n",
    "            train_targ, train_in, train_att = train_batch\n",
    "            \n",
    "            network = network.to(device)\n",
    "            train_in = train_in.to(device)\n",
    "            train_att = train_att.to(device)\n",
    "            train_targ = train_targ.to(device)\n",
    "\n",
    "            train_preds = network.forward(train_in, train_att)\n",
    "            train_loss = bce(train_preds, train_targ)/len(train_preds)\n",
    "            train_f1 = f1_score(train_preds, train_targ.squeeze(dim=1))\n",
    "\n",
    "            optimizer.zero_grad()\n",
    "            train_loss.backward()\n",
    "            xm.optimizer_step(optimizer)\n",
    "            \n",
    "            end = time.time()\n",
    "            batch = batch + 1\n",
    "            is_print = batch % 10 == 1\n",
    "            f1 = np.round(train_f1.item(), 3)\n",
    "            if is_print: print_metric(f1, batch, None, start, end, metric=\"F1\", typ=\"Train\")\n",
    "\n",
    "        val_loss, val_f1, val_points = 0, 0, 0\n",
    "\n",
    "        network.eval()\n",
    "        with torch.no_grad():\n",
    "            for val_batch in val_parallel:\n",
    "                targ, val_in, val_att = val_batch\n",
    "\n",
    "                targ = targ.to(device)\n",
    "                val_in = val_in.to(device)\n",
    "                val_att = val_att.to(device)\n",
    "                network = network.to(device)\n",
    "                pred = network.forward(val_in, val_att)\n",
    "\n",
    "                val_points += len(targ)\n",
    "                val_loss += bce(pred, targ).item()\n",
    "                val_f1 += f1_score(pred, targ.squeeze(dim=1)).item()*len(pred)\n",
    "        \n",
    "        end = time.time()\n",
    "        val_f1 /= val_points\n",
    "        val_loss /= val_points\n",
    "        f1 = xm.mesh_reduce('f1', val_f1, lambda x: sum(x)/len(x))\n",
    "        loss = xm.mesh_reduce('loss', val_loss, lambda x: sum(x)/len(x))\n",
    "        print_metric(np.round(f1, 3), None, epoch, start, end, metric=\"F1\", typ=\"Val\")\n",
    "    \n",
    "        xm.master_print(\"\")\n",
    "        val_f1s.append(f1); train_f1s.append(train_f1.item())\n",
    "        val_losses.append(loss); train_losses.append(train_loss.item())\n",
    "\n",
    "    xm.master_print(\"ENDING TRAINING ...\")\n",
    "    xm.save(network.state_dict(), MODEL_SAVE_PATH); del network; gc.collect()\n",
    "    \n",
    "    metric_lists = [val_losses, train_losses, val_f1s, train_f1s]\n",
    "    metric_names = ['val_loss_', 'train_loss_', 'val_f1_', 'train_f1_']\n",
    "    \n",
    "    for i, metric_list in enumerate(metric_lists):\n",
    "        for j, metric_value in enumerate(metric_list):\n",
    "            torch.save(metric_value, metric_names[i] + str(j) + '.pt')"
   ]
  },
  {
   "cell_type": "code",
   "execution_count": 16,
   "metadata": {},
   "outputs": [
    {
     "name": "stdout",
     "output_type": "stream",
     "text": [
      "STARTING TRAINING ...\n",
      "\n",
      "EPOCH \u001b[38;5;48m1\u001b[0m\n",
      "BATCH \u001b[38;5;211m10\u001b[0m  Train F1: \u001b[38;5;212m0.0\u001b[0m  Time: \u001b[38;5;213m208.5\u001b[0m s\n",
      "BATCH \u001b[38;5;211m20\u001b[0m  Train F1: \u001b[38;5;212m0.0\u001b[0m  Time: \u001b[38;5;213m219.3\u001b[0m s\n",
      "BATCH \u001b[38;5;211m30\u001b[0m  Train F1: \u001b[38;5;212m0.0\u001b[0m  Time: \u001b[38;5;213m229.7\u001b[0m s\n",
      "BATCH \u001b[38;5;211m40\u001b[0m  Train F1: \u001b[38;5;212m0.511\u001b[0m  Time: \u001b[38;5;213m240.3\u001b[0m s\n",
      "BATCH \u001b[38;5;211m50\u001b[0m  Train F1: \u001b[38;5;212m0.545\u001b[0m  Time: \u001b[38;5;213m251.1\u001b[0m s\n",
      "BATCH \u001b[38;5;211m60\u001b[0m  Train F1: \u001b[38;5;212m0.634\u001b[0m  Time: \u001b[38;5;213m261.8\u001b[0m s\n",
      "BATCH \u001b[38;5;211m70\u001b[0m  Train F1: \u001b[38;5;212m0.522\u001b[0m  Time: \u001b[38;5;213m272.2\u001b[0m s\n",
      "BATCH \u001b[38;5;211m80\u001b[0m  Train F1: \u001b[38;5;212m0.526\u001b[0m  Time: \u001b[38;5;213m282.8\u001b[0m s\n",
      "BATCH \u001b[38;5;211m90\u001b[0m  Train F1: \u001b[38;5;212m0.593\u001b[0m  Time: \u001b[38;5;213m293.2\u001b[0m s\n",
      "BATCH \u001b[38;5;211m100\u001b[0m  Train F1: \u001b[38;5;212m0.37\u001b[0m  Time: \u001b[38;5;213m303.9\u001b[0m s\n",
      "BATCH \u001b[38;5;211m110\u001b[0m  Train F1: \u001b[38;5;212m0.667\u001b[0m  Time: \u001b[38;5;213m314.6\u001b[0m s\n",
      "BATCH \u001b[38;5;211m120\u001b[0m  Train F1: \u001b[38;5;212m0.732\u001b[0m  Time: \u001b[38;5;213m325.3\u001b[0m s\n",
      "BATCH \u001b[38;5;211m130\u001b[0m  Train F1: \u001b[38;5;212m0.69\u001b[0m  Time: \u001b[38;5;213m335.7\u001b[0m s\n",
      "BATCH \u001b[38;5;211m140\u001b[0m  Train F1: \u001b[38;5;212m0.538\u001b[0m  Time: \u001b[38;5;213m346.2\u001b[0m s\n",
      "BATCH \u001b[38;5;211m150\u001b[0m  Train F1: \u001b[38;5;212m0.333\u001b[0m  Time: \u001b[38;5;213m356.6\u001b[0m s\n",
      "BATCH \u001b[38;5;211m160\u001b[0m  Train F1: \u001b[38;5;212m0.714\u001b[0m  Time: \u001b[38;5;213m367.3\u001b[0m s\n",
      "BATCH \u001b[38;5;211m170\u001b[0m  Train F1: \u001b[38;5;212m0.345\u001b[0m  Time: \u001b[38;5;213m378.1\u001b[0m s\n",
      "BATCH \u001b[38;5;211m180\u001b[0m  Train F1: \u001b[38;5;212m0.522\u001b[0m  Time: \u001b[38;5;213m388.6\u001b[0m s\n",
      "BATCH \u001b[38;5;211m190\u001b[0m  Train F1: \u001b[38;5;212m0.696\u001b[0m  Time: \u001b[38;5;213m399.1\u001b[0m s\n",
      "BATCH \u001b[38;5;211m200\u001b[0m  Train F1: \u001b[38;5;212m0.667\u001b[0m  Time: \u001b[38;5;213m409.6\u001b[0m s\n",
      "BATCH \u001b[38;5;211m210\u001b[0m  Train F1: \u001b[38;5;212m0.812\u001b[0m  Time: \u001b[38;5;213m420.0\u001b[0m s\n",
      "BATCH \u001b[38;5;211m220\u001b[0m  Train F1: \u001b[38;5;212m0.643\u001b[0m  Time: \u001b[38;5;213m430.8\u001b[0m s\n",
      "BATCH \u001b[38;5;211m230\u001b[0m  Train F1: \u001b[38;5;212m0.72\u001b[0m  Time: \u001b[38;5;213m441.3\u001b[0m s\n",
      "BATCH \u001b[38;5;211m240\u001b[0m  Train F1: \u001b[38;5;212m0.647\u001b[0m  Time: \u001b[38;5;213m452.0\u001b[0m s\n",
      "BATCH \u001b[38;5;211m250\u001b[0m  Train F1: \u001b[38;5;212m0.727\u001b[0m  Time: \u001b[38;5;213m462.4\u001b[0m s\n",
      "BATCH \u001b[38;5;211m260\u001b[0m  Train F1: \u001b[38;5;212m0.5\u001b[0m  Time: \u001b[38;5;213m473.0\u001b[0m s\n",
      "BATCH \u001b[38;5;211m270\u001b[0m  Train F1: \u001b[38;5;212m0.636\u001b[0m  Time: \u001b[38;5;213m483.5\u001b[0m s\n",
      "BATCH \u001b[38;5;211m280\u001b[0m  Train F1: \u001b[38;5;212m0.562\u001b[0m  Time: \u001b[38;5;213m494.3\u001b[0m s\n",
      "BATCH \u001b[38;5;211m290\u001b[0m  Train F1: \u001b[38;5;212m0.687\u001b[0m  Time: \u001b[38;5;213m504.7\u001b[0m s\n",
      "BATCH \u001b[38;5;211m300\u001b[0m  Train F1: \u001b[38;5;212m0.714\u001b[0m  Time: \u001b[38;5;213m515.3\u001b[0m s\n",
      "BATCH \u001b[38;5;211m310\u001b[0m  Train F1: \u001b[38;5;212m0.667\u001b[0m  Time: \u001b[38;5;213m525.7\u001b[0m s\n",
      "BATCH \u001b[38;5;211m320\u001b[0m  Train F1: \u001b[38;5;212m0.615\u001b[0m  Time: \u001b[38;5;213m536.3\u001b[0m s\n",
      "BATCH \u001b[38;5;211m330\u001b[0m  Train F1: \u001b[38;5;212m0.833\u001b[0m  Time: \u001b[38;5;213m546.8\u001b[0m s\n",
      "BATCH \u001b[38;5;211m340\u001b[0m  Train F1: \u001b[38;5;212m0.647\u001b[0m  Time: \u001b[38;5;213m557.6\u001b[0m s\n",
      "BATCH \u001b[38;5;211m350\u001b[0m  Train F1: \u001b[38;5;212m0.857\u001b[0m  Time: \u001b[38;5;213m568.0\u001b[0m s\n",
      "BATCH \u001b[38;5;211m360\u001b[0m  Train F1: \u001b[38;5;212m0.571\u001b[0m  Time: \u001b[38;5;213m578.6\u001b[0m s\n",
      "BATCH \u001b[38;5;211m370\u001b[0m  Train F1: \u001b[38;5;212m0.522\u001b[0m  Time: \u001b[38;5;213m589.0\u001b[0m s\n",
      "BATCH \u001b[38;5;211m380\u001b[0m  Train F1: \u001b[38;5;212m0.7\u001b[0m  Time: \u001b[38;5;213m599.6\u001b[0m s\n",
      "BATCH \u001b[38;5;211m390\u001b[0m  Train F1: \u001b[38;5;212m0.703\u001b[0m  Time: \u001b[38;5;213m610.4\u001b[0m s\n",
      "BATCH \u001b[38;5;211m400\u001b[0m  Train F1: \u001b[38;5;212m0.571\u001b[0m  Time: \u001b[38;5;213m621.0\u001b[0m s\n",
      "BATCH \u001b[38;5;211m410\u001b[0m  Train F1: \u001b[38;5;212m0.732\u001b[0m  Time: \u001b[38;5;213m631.2\u001b[0m s\n",
      "BATCH \u001b[38;5;211m420\u001b[0m  Train F1: \u001b[38;5;212m0.6\u001b[0m  Time: \u001b[38;5;213m641.7\u001b[0m s\n",
      "BATCH \u001b[38;5;211m430\u001b[0m  Train F1: \u001b[38;5;212m0.5\u001b[0m  Time: \u001b[38;5;213m652.0\u001b[0m s\n",
      "BATCH \u001b[38;5;211m440\u001b[0m  Train F1: \u001b[38;5;212m0.667\u001b[0m  Time: \u001b[38;5;213m662.5\u001b[0m s\n",
      "BATCH \u001b[38;5;211m450\u001b[0m  Train F1: \u001b[38;5;212m0.444\u001b[0m  Time: \u001b[38;5;213m673.3\u001b[0m s\n",
      "BATCH \u001b[38;5;211m460\u001b[0m  Train F1: \u001b[38;5;212m0.429\u001b[0m  Time: \u001b[38;5;213m683.9\u001b[0m s\n",
      "BATCH \u001b[38;5;211m470\u001b[0m  Train F1: \u001b[38;5;212m0.72\u001b[0m  Time: \u001b[38;5;213m694.1\u001b[0m s\n",
      "BATCH \u001b[38;5;211m480\u001b[0m  Train F1: \u001b[38;5;212m0.818\u001b[0m  Time: \u001b[38;5;213m704.8\u001b[0m s\n",
      "BATCH \u001b[38;5;211m490\u001b[0m  Train F1: \u001b[38;5;212m0.714\u001b[0m  Time: \u001b[38;5;213m715.1\u001b[0m s\n",
      "BATCH \u001b[38;5;211m500\u001b[0m  Train F1: \u001b[38;5;212m0.615\u001b[0m  Time: \u001b[38;5;213m725.1\u001b[0m s\n",
      "BATCH \u001b[38;5;211m510\u001b[0m  Train F1: \u001b[38;5;212m0.583\u001b[0m  Time: \u001b[38;5;213m735.1\u001b[0m s\n",
      "\n",
      "EPOCH \u001b[38;5;211m1\u001b[0m  Val F1: \u001b[38;5;212m0.688\u001b[0m  Time: \u001b[38;5;213m827.7\u001b[0m s\n",
      "\n",
      "EPOCH \u001b[38;5;48m2\u001b[0m\n",
      "BATCH \u001b[38;5;211m10\u001b[0m  Train F1: \u001b[38;5;212m0.769\u001b[0m  Time: \u001b[38;5;213m851.0\u001b[0m s\n",
      "BATCH \u001b[38;5;211m20\u001b[0m  Train F1: \u001b[38;5;212m0.732\u001b[0m  Time: \u001b[38;5;213m865.8\u001b[0m s\n",
      "BATCH \u001b[38;5;211m30\u001b[0m  Train F1: \u001b[38;5;212m0.4\u001b[0m  Time: \u001b[38;5;213m878.8\u001b[0m s\n",
      "BATCH \u001b[38;5;211m40\u001b[0m  Train F1: \u001b[38;5;212m0.723\u001b[0m  Time: \u001b[38;5;213m891.8\u001b[0m s\n",
      "BATCH \u001b[38;5;211m50\u001b[0m  Train F1: \u001b[38;5;212m0.56\u001b[0m  Time: \u001b[38;5;213m905.8\u001b[0m s\n",
      "BATCH \u001b[38;5;211m60\u001b[0m  Train F1: \u001b[38;5;212m0.579\u001b[0m  Time: \u001b[38;5;213m916.7\u001b[0m s\n",
      "BATCH \u001b[38;5;211m70\u001b[0m  Train F1: \u001b[38;5;212m0.485\u001b[0m  Time: \u001b[38;5;213m927.1\u001b[0m s\n",
      "BATCH \u001b[38;5;211m80\u001b[0m  Train F1: \u001b[38;5;212m0.56\u001b[0m  Time: \u001b[38;5;213m937.6\u001b[0m s\n",
      "BATCH \u001b[38;5;211m90\u001b[0m  Train F1: \u001b[38;5;212m0.64\u001b[0m  Time: \u001b[38;5;213m948.4\u001b[0m s\n",
      "BATCH \u001b[38;5;211m100\u001b[0m  Train F1: \u001b[38;5;212m0.625\u001b[0m  Time: \u001b[38;5;213m958.8\u001b[0m s\n",
      "BATCH \u001b[38;5;211m110\u001b[0m  Train F1: \u001b[38;5;212m0.556\u001b[0m  Time: \u001b[38;5;213m969.4\u001b[0m s\n",
      "BATCH \u001b[38;5;211m120\u001b[0m  Train F1: \u001b[38;5;212m0.791\u001b[0m  Time: \u001b[38;5;213m980.1\u001b[0m s\n",
      "BATCH \u001b[38;5;211m130\u001b[0m  Train F1: \u001b[38;5;212m0.667\u001b[0m  Time: \u001b[38;5;213m990.3\u001b[0m s\n",
      "BATCH \u001b[38;5;211m140\u001b[0m  Train F1: \u001b[38;5;212m0.71\u001b[0m  Time: \u001b[38;5;213m1001.0\u001b[0m s\n",
      "BATCH \u001b[38;5;211m150\u001b[0m  Train F1: \u001b[38;5;212m0.526\u001b[0m  Time: \u001b[38;5;213m1011.2\u001b[0m s\n",
      "BATCH \u001b[38;5;211m160\u001b[0m  Train F1: \u001b[38;5;212m0.846\u001b[0m  Time: \u001b[38;5;213m1021.6\u001b[0m s\n",
      "BATCH \u001b[38;5;211m170\u001b[0m  Train F1: \u001b[38;5;212m0.483\u001b[0m  Time: \u001b[38;5;213m1032.5\u001b[0m s\n",
      "BATCH \u001b[38;5;211m180\u001b[0m  Train F1: \u001b[38;5;212m0.786\u001b[0m  Time: \u001b[38;5;213m1043.2\u001b[0m s\n",
      "BATCH \u001b[38;5;211m190\u001b[0m  Train F1: \u001b[38;5;212m0.696\u001b[0m  Time: \u001b[38;5;213m1053.5\u001b[0m s\n",
      "BATCH \u001b[38;5;211m200\u001b[0m  Train F1: \u001b[38;5;212m0.625\u001b[0m  Time: \u001b[38;5;213m1064.2\u001b[0m s\n",
      "BATCH \u001b[38;5;211m210\u001b[0m  Train F1: \u001b[38;5;212m0.778\u001b[0m  Time: \u001b[38;5;213m1074.5\u001b[0m s\n",
      "BATCH \u001b[38;5;211m220\u001b[0m  Train F1: \u001b[38;5;212m0.813\u001b[0m  Time: \u001b[38;5;213m1085.0\u001b[0m s\n",
      "BATCH \u001b[38;5;211m230\u001b[0m  Train F1: \u001b[38;5;212m0.615\u001b[0m  Time: \u001b[38;5;213m1095.6\u001b[0m s\n",
      "BATCH \u001b[38;5;211m240\u001b[0m  Train F1: \u001b[38;5;212m0.606\u001b[0m  Time: \u001b[38;5;213m1106.3\u001b[0m s\n",
      "BATCH \u001b[38;5;211m250\u001b[0m  Train F1: \u001b[38;5;212m0.621\u001b[0m  Time: \u001b[38;5;213m1116.5\u001b[0m s\n",
      "BATCH \u001b[38;5;211m260\u001b[0m  Train F1: \u001b[38;5;212m0.609\u001b[0m  Time: \u001b[38;5;213m1127.1\u001b[0m s\n",
      "BATCH \u001b[38;5;211m270\u001b[0m  Train F1: \u001b[38;5;212m0.7\u001b[0m  Time: \u001b[38;5;213m1137.2\u001b[0m s\n",
      "BATCH \u001b[38;5;211m280\u001b[0m  Train F1: \u001b[38;5;212m0.562\u001b[0m  Time: \u001b[38;5;213m1147.8\u001b[0m s\n",
      "BATCH \u001b[38;5;211m290\u001b[0m  Train F1: \u001b[38;5;212m0.687\u001b[0m  Time: \u001b[38;5;213m1158.1\u001b[0m s\n",
      "BATCH \u001b[38;5;211m300\u001b[0m  Train F1: \u001b[38;5;212m0.69\u001b[0m  Time: \u001b[38;5;213m1168.7\u001b[0m s\n",
      "BATCH \u001b[38;5;211m310\u001b[0m  Train F1: \u001b[38;5;212m0.87\u001b[0m  Time: \u001b[38;5;213m1179.0\u001b[0m s\n",
      "BATCH \u001b[38;5;211m320\u001b[0m  Train F1: \u001b[38;5;212m0.857\u001b[0m  Time: \u001b[38;5;213m1189.4\u001b[0m s\n",
      "BATCH \u001b[38;5;211m330\u001b[0m  Train F1: \u001b[38;5;212m0.846\u001b[0m  Time: \u001b[38;5;213m1199.6\u001b[0m s\n",
      "BATCH \u001b[38;5;211m340\u001b[0m  Train F1: \u001b[38;5;212m0.595\u001b[0m  Time: \u001b[38;5;213m1210.1\u001b[0m s\n",
      "BATCH \u001b[38;5;211m350\u001b[0m  Train F1: \u001b[38;5;212m0.741\u001b[0m  Time: \u001b[38;5;213m1220.6\u001b[0m s\n",
      "BATCH \u001b[38;5;211m360\u001b[0m  Train F1: \u001b[38;5;212m0.429\u001b[0m  Time: \u001b[38;5;213m1231.1\u001b[0m s\n",
      "BATCH \u001b[38;5;211m370\u001b[0m  Train F1: \u001b[38;5;212m0.667\u001b[0m  Time: \u001b[38;5;213m1241.3\u001b[0m s\n",
      "BATCH \u001b[38;5;211m380\u001b[0m  Train F1: \u001b[38;5;212m0.649\u001b[0m  Time: \u001b[38;5;213m1251.7\u001b[0m s\n",
      "BATCH \u001b[38;5;211m390\u001b[0m  Train F1: \u001b[38;5;212m0.727\u001b[0m  Time: \u001b[38;5;213m1262.1\u001b[0m s\n",
      "BATCH \u001b[38;5;211m400\u001b[0m  Train F1: \u001b[38;5;212m0.632\u001b[0m  Time: \u001b[38;5;213m1272.6\u001b[0m s\n",
      "BATCH \u001b[38;5;211m410\u001b[0m  Train F1: \u001b[38;5;212m0.686\u001b[0m  Time: \u001b[38;5;213m1283.1\u001b[0m s\n",
      "BATCH \u001b[38;5;211m420\u001b[0m  Train F1: \u001b[38;5;212m0.765\u001b[0m  Time: \u001b[38;5;213m1293.7\u001b[0m s\n",
      "BATCH \u001b[38;5;211m430\u001b[0m  Train F1: \u001b[38;5;212m0.595\u001b[0m  Time: \u001b[38;5;213m1304.0\u001b[0m s\n",
      "BATCH \u001b[38;5;211m440\u001b[0m  Train F1: \u001b[38;5;212m0.71\u001b[0m  Time: \u001b[38;5;213m1314.5\u001b[0m s\n",
      "BATCH \u001b[38;5;211m450\u001b[0m  Train F1: \u001b[38;5;212m0.444\u001b[0m  Time: \u001b[38;5;213m1324.7\u001b[0m s\n",
      "BATCH \u001b[38;5;211m460\u001b[0m  Train F1: \u001b[38;5;212m0.556\u001b[0m  Time: \u001b[38;5;213m1335.5\u001b[0m s\n",
      "BATCH \u001b[38;5;211m470\u001b[0m  Train F1: \u001b[38;5;212m0.75\u001b[0m  Time: \u001b[38;5;213m1345.9\u001b[0m s\n",
      "BATCH \u001b[38;5;211m480\u001b[0m  Train F1: \u001b[38;5;212m0.917\u001b[0m  Time: \u001b[38;5;213m1356.3\u001b[0m s\n",
      "BATCH \u001b[38;5;211m490\u001b[0m  Train F1: \u001b[38;5;212m0.8\u001b[0m  Time: \u001b[38;5;213m1366.6\u001b[0m s\n",
      "BATCH \u001b[38;5;211m500\u001b[0m  Train F1: \u001b[38;5;212m0.621\u001b[0m  Time: \u001b[38;5;213m1376.7\u001b[0m s\n",
      "BATCH \u001b[38;5;211m510\u001b[0m  Train F1: \u001b[38;5;212m0.609\u001b[0m  Time: \u001b[38;5;213m1386.3\u001b[0m s\n",
      "\n",
      "EPOCH \u001b[38;5;211m2\u001b[0m  Val F1: \u001b[38;5;212m0.705\u001b[0m  Time: \u001b[38;5;213m1425.1\u001b[0m s\n",
      "\n",
      "ENDING TRAINING ...\n"
     ]
    }
   ],
   "source": [
    "FLAGS = {}\n",
    "def _mp_fn(rank, flags): train_fn(df=train_df)\n",
    "xmp.spawn(_mp_fn, args=(FLAGS,), nprocs=8, start_method='fork')"
   ]
  },
  {
   "cell_type": "markdown",
   "execution_count": null,
   "metadata": {},
   "source": [
    "## Visualize loss and F1 score over time\n",
    "\n",
    "* We now visualize how the loss and accuracy of the model change over time.\n",
    "* We can see that the model eventually converges to around 0.7 F1 Score at the end."
   ]
  },
  {
   "cell_type": "code",
   "execution_count": 17,
   "metadata": {
    "_kg_hide-input": true
   },
   "outputs": [
    {
     "data": {
      "image/png": "[encoded data removed]",
      "text/plain": [
       "<Figure size 720x720 with 1 Axes>"
      ]
     },
     "metadata": {},
     "output_type": "display_data"
    },
    {
     "data": {
      "image/png": "[encoded data removed]",
      "text/plain": [
       "<Figure size 720x720 with 1 Axes>"
      ]
     },
     "metadata": {},
     "output_type": "display_data"
    }
   ],
   "source": [
    "def display_training_curves(training, validation, title, subplot):\n",
    "\n",
    "    plt.subplots(figsize=(10,10), facecolor='#F0F0F0')\n",
    "    plt.tight_layout()\n",
    "\n",
    "    ax = plt.subplot(subplot)\n",
    "    ax.set_facecolor('#F8F8F8')\n",
    "    ax.plot(training, color=\"indianred\", marker='o')\n",
    "    ax.plot(validation, color=\"darkorange\", marker='o')\n",
    "    \n",
    "    ax.set_ylabel(title)\n",
    "    ax.set_xlabel('epoch')\n",
    "    ax.set_title('Model '+ title)\n",
    "    ax.legend(['train', 'valid'])\n",
    "\n",
    "    \n",
    "val_f1s = [0] + [torch.load('val_f1_{}.pt'.format(i)) for i in range(EPOCHS)]\n",
    "train_f1s = [0] + [torch.load('train_f1_{}.pt'.format(i)) for i in range(EPOCHS)]\n",
    "val_losses = [0.25] + [torch.load('val_loss_{}.pt'.format(i)) for i in range(EPOCHS)]\n",
    "train_losses = [0.25] + [torch.load('train_loss_{}.pt'.format(i)) for i in range(EPOCHS)]\n",
    "\n",
    "display_training_curves(train_f1s, val_f1s, \"F1 Score vs. Epochs\", 212)\n",
    "display_training_curves(train_losses, val_losses, \"BCE Loss vs. Epochs\", 211)"
   ]
  },
  {
   "cell_type": "markdown",
   "execution_count": null,
   "metadata": {},
   "source": [
    "## Load model and check sample performance\n",
    "\n",
    "* We first load the model to check its performance.\n",
    "* We will now see how the model performs on sample questions.\n",
    "* It appears to classify insincerity pretty accurately in these simple examples."
   ]
  },
  {
   "cell_type": "code",
   "execution_count": 18,
   "metadata": {},
   "outputs": [
    {
     "data": {
      "text/plain": [
       "<All keys matched successfully>"
      ]
     },
     "execution_count": 18,
     "metadata": {},
     "output_type": "execute_result"
    }
   ],
   "source": [
    "network = Roberta()\n",
    "network.load_state_dict(torch.load('insincerity_model.pt'))"
   ]
  },
  {
   "cell_type": "code",
   "execution_count": 19,
   "metadata": {
    "_kg_hide-input": true
   },
   "outputs": [],
   "source": [
    "device = xm.xla_device()\n",
    "network = network.to(device)\n",
    "\n",
    "def predict_insincerity(question):\n",
    "    pg, tg = 'post', 'post'\n",
    "    ins = {0: 'sincere', 1: 'insincere'}\n",
    "    quest_ids = tokenizer.encode(question.strip())\n",
    "\n",
    "    attention_mask_idx = len(quest_ids) - 1\n",
    "    if 0 not in quest_ids: quest_ids = 0 + quest_ids\n",
    "    quest_ids = pad([quest_ids], maxlen=MAXLEN, value=1, padding=pg, truncating=tg)\n",
    "\n",
    "    att_mask = np.zeros(MAXLEN)\n",
    "    att_mask[1:attention_mask_idx] = 1\n",
    "    att_mask = att_mask.reshape((1, -1))\n",
    "    if 2 not in quest_ids: quest_ids[-1], attention_mask[-1] = 2, 0\n",
    "    quest_ids, att_mask = torch.LongTensor(quest_ids), torch.LongTensor(att_mask)\n",
    "    \n",
    "    output = network.forward(quest_ids.to(device), att_mask.to(device))\n",
    "    return ins[int(np.round(nn.Sigmoid()(output.detach().cpu()).item()))]"
   ]
  },
  {
   "cell_type": "code",
   "execution_count": 20,
   "metadata": {},
   "outputs": [
    {
     "data": {
      "text/plain": [
       "'sincere'"
      ]
     },
     "execution_count": 20,
     "metadata": {},
     "output_type": "execute_result"
    }
   ],
   "source": [
    "predict_insincerity(\"How can I train roBERTa base on TPUs?\")"
   ]
  },
  {
   "cell_type": "code",
   "execution_count": 21,
   "metadata": {},
   "outputs": [
    {
     "data": {
      "text/plain": [
       "'insincere'"
      ]
     },
     "execution_count": 21,
     "metadata": {},
     "output_type": "execute_result"
    }
   ],
   "source": [
    "predict_insincerity(\"Why is that stupid man the biggest dictator in the world?\")"
   ]
  }
 ],
 "metadata": {
  "kernelspec": {
   "display_name": "Python 3",
   "language": "python",
   "name": "python3"
  },
  "language_info": {
   "codemirror_mode": {
    "name": "ipython",
    "version": 3
   },
   "file_extension": ".py",
   "mimetype": "text/x-python",
   "name": "python",
   "nbconvert_exporter": "python",
   "pygments_lexer": "ipython3",
   "version": "3.7.6"
  },
  "widgets": {
   "application/vnd.jupyter.widget-state+json": {
    "state": {
     "05defb286fac4c7698681bbe70494e71": {
      "model_module": "@jupyter-widgets/base",
      "model_module_version": "1.2.0",
      "model_name": "LayoutModel",
      "state": {
       "_model_module": "@jupyter-widgets/base",
       "_model_module_version": "1.2.0",
       "_model_name": "LayoutModel",
       "_view_count": null,
       "_view_module": "@jupyter-widgets/base",
       "_view_module_version": "1.2.0",
       "_view_name": "LayoutView",
       "align_content": null,
       "align_items": null,
       "align_self": null,
       "border": null,
       "bottom": null,
       "display": null,
       "flex": null,
       "flex_flow": null,
       "grid_area": null,
       "grid_auto_columns": null,
       "grid_auto_flow": null,
       "grid_auto_rows": null,
       "grid_column": null,
       "grid_gap": null,
       "grid_row": null,
       "grid_template_areas": null,
       "grid_template_columns": null,
       "grid_template_rows": null,
       "height": null,
       "justify_content": null,
       "justify_items": null,
       "left": null,
       "margin": null,
       "max_height": null,
       "max_width": null,
       "min_height": null,
       "min_width": null,
       "object_fit": null,
       "object_position": null,
       "order": null,
       "overflow": null,
       "overflow_x": null,
       "overflow_y": null,
       "padding": null,
       "right": null,
       "top": null,
       "visibility": null,
       "width": null
      }
     },
     "081f3d3968274519a5937de235708a0f": {
      "model_module": "@jupyter-widgets/controls",
      "model_module_version": "1.5.0",
      "model_name": "ProgressStyleModel",
      "state": {
       "_model_module": "@jupyter-widgets/controls",
       "_model_module_version": "1.5.0",
       "_model_name": "ProgressStyleModel",
       "_view_count": null,
       "_view_module": "@jupyter-widgets/base",
       "_view_module_version": "1.2.0",
       "_view_name": "StyleView",
       "bar_color": null,
       "description_width": "initial"
      }
     },
     "107859421d22414aa214f2cb64e08872": {
      "model_module": "@jupyter-widgets/controls",
      "model_module_version": "1.5.0",
      "model_name": "DescriptionStyleModel",
      "state": {
       "_model_module": "@jupyter-widgets/controls",
       "_model_module_version": "1.5.0",
       "_model_name": "DescriptionStyleModel",
       "_view_count": null,
       "_view_module": "@jupyter-widgets/base",
       "_view_module_version": "1.2.0",
       "_view_name": "StyleView",
       "description_width": ""
      }
     },
     "10bc2425fa8d4571af961f2d91a1b2af": {
      "model_module": "@jupyter-widgets/base",
      "model_module_version": "1.2.0",
      "model_name": "LayoutModel",
      "state": {
       "_model_module": "@jupyter-widgets/base",
       "_model_module_version": "1.2.0",
       "_model_name": "LayoutModel",
       "_view_count": null,
       "_view_module": "@jupyter-widgets/base",
       "_view_module_version": "1.2.0",
       "_view_name": "LayoutView",
       "align_content": null,
       "align_items": null,
       "align_self": null,
       "border": null,
       "bottom": null,
       "display": null,
       "flex": null,
       "flex_flow": null,
       "grid_area": null,
       "grid_auto_columns": null,
       "grid_auto_flow": null,
       "grid_auto_rows": null,
       "grid_column": null,
       "grid_gap": null,
       "grid_row": null,
       "grid_template_areas": null,
       "grid_template_columns": null,
       "grid_template_rows": null,
       "height": null,
       "justify_content": null,
       "justify_items": null,
       "left": null,
       "margin": null,
       "max_height": null,
       "max_width": null,
       "min_height": null,
       "min_width": null,
       "object_fit": null,
       "object_position": null,
       "order": null,
       "overflow": null,
       "overflow_x": null,
       "overflow_y": null,
       "padding": null,
       "right": null,
       "top": null,
       "visibility": null,
       "width": null
      }
     },
     "18673b631ed14315889811456d867b81": {
      "model_module": "@jupyter-widgets/base",
      "model_module_version": "1.2.0",
      "model_name": "LayoutModel",
      "state": {
       "_model_module": "@jupyter-widgets/base",
       "_model_module_version": "1.2.0",
       "_model_name": "LayoutModel",
       "_view_count": null,
       "_view_module": "@jupyter-widgets/base",
       "_view_module_version": "1.2.0",
       "_view_name": "LayoutView",
       "align_content": null,
       "align_items": null,
       "align_self": null,
       "border": null,
       "bottom": null,
       "display": null,
       "flex": null,
       "flex_flow": null,
       "grid_area": null,
       "grid_auto_columns": null,
       "grid_auto_flow": null,
       "grid_auto_rows": null,
       "grid_column": null,
       "grid_gap": null,
       "grid_row": null,
       "grid_template_areas": null,
       "grid_template_columns": null,
       "grid_template_rows": null,
       "height": null,
       "justify_content": null,
       "justify_items": null,
       "left": null,
       "margin": null,
       "max_height": null,
       "max_width": null,
       "min_height": null,
       "min_width": null,
       "object_fit": null,
       "object_position": null,
       "order": null,
       "overflow": null,
       "overflow_x": null,
       "overflow_y": null,
       "padding": null,
       "right": null,
       "top": null,
       "visibility": null,
       "width": null
      }
     },
     "1a113897445e488b8bed6b89ddee5940": {
      "model_module": "@jupyter-widgets/controls",
      "model_module_version": "1.5.0",
      "model_name": "HBoxModel",
      "state": {
       "_dom_classes": [],
       "_model_module": "@jupyter-widgets/controls",
       "_model_module_version": "1.5.0",
       "_model_name": "HBoxModel",
       "_view_count": null,
       "_view_module": "@jupyter-widgets/controls",
       "_view_module_version": "1.5.0",
       "_view_name": "HBoxView",
       "box_style": "",
       "children": [
        "IPY_MODEL_facda61ff45a4006881be68df916b67e",
        "IPY_MODEL_2b5dca41e13d43bc81505e8c2f8d6ad5"
       ],
       "layout": "IPY_MODEL_510f90b8b7544812abeb3c5eb2506829"
      }
     },
     "247451dbd9db4b8e99a299308dae6dba": {
      "model_module": "@jupyter-widgets/controls",
      "model_module_version": "1.5.0",
      "model_name": "HTMLModel",
      "state": {
       "_dom_classes": [],
       "_model_module": "@jupyter-widgets/controls",
       "_model_module_version": "1.5.0",
       "_model_name": "HTMLModel",
       "_view_count": null,
       "_view_module": "@jupyter-widgets/controls",
       "_view_module_version": "1.5.0",
       "_view_name": "HTMLView",
       "description": "",
       "description_tooltip": null,
       "layout": "IPY_MODEL_2bba1d861ad34c888f07c380a7a9cd6c",
       "placeholder": "​",
       "style": "IPY_MODEL_a10456ed4bfb4433a4c2916856b3f92e",
       "value": " 501M/501M [00:15&lt;00:00, 32.1MB/s]"
      }
     },
     "2b5dca41e13d43bc81505e8c2f8d6ad5": {
      "model_module": "@jupyter-widgets/controls",
      "model_module_version": "1.5.0",
      "model_name": "HTMLModel",
      "state": {
       "_dom_classes": [],
       "_model_module": "@jupyter-widgets/controls",
       "_model_module_version": "1.5.0",
       "_model_name": "HTMLModel",
       "_view_count": null,
       "_view_module": "@jupyter-widgets/controls",
       "_view_module_version": "1.5.0",
       "_view_name": "HTMLView",
       "description": "",
       "description_tooltip": null,
       "layout": "IPY_MODEL_eb2bec7060df4f8fa8015dbe71177817",
       "placeholder": "​",
       "style": "IPY_MODEL_34d08acd10f64957a6c6e24440ac1555",
       "value": " 481/481 [00:00&lt;00:00, 3.52kB/s]"
      }
     },
     "2bba1d861ad34c888f07c380a7a9cd6c": {
      "model_module": "@jupyter-widgets/base",
      "model_module_version": "1.2.0",
      "model_name": "LayoutModel",
      "state": {
       "_model_module": "@jupyter-widgets/base",
       "_model_module_version": "1.2.0",
       "_model_name": "LayoutModel",
       "_view_count": null,
       "_view_module": "@jupyter-widgets/base",
       "_view_module_version": "1.2.0",
       "_view_name": "LayoutView",
       "align_content": null,
       "align_items": null,
       "align_self": null,
       "border": null,
       "bottom": null,
       "display": null,
       "flex": null,
       "flex_flow": null,
       "grid_area": null,
       "grid_auto_columns": null,
       "grid_auto_flow": null,
       "grid_auto_rows": null,
       "grid_column": null,
       "grid_gap": null,
       "grid_row": null,
       "grid_template_areas": null,
       "grid_template_columns": null,
       "grid_template_rows": null,
       "height": null,
       "justify_content": null,
       "justify_items": null,
       "left": null,
       "margin": null,
       "max_height": null,
       "max_width": null,
       "min_height": null,
       "min_width": null,
       "object_fit": null,
       "object_position": null,
       "order": null,
       "overflow": null,
       "overflow_x": null,
       "overflow_y": null,
       "padding": null,
       "right": null,
       "top": null,
       "visibility": null,
       "width": null
      }
     },
     "33c24225eb134358afe7770ad561a4f8": {
      "model_module": "@jupyter-widgets/controls",
      "model_module_version": "1.5.0",
      "model_name": "HTMLModel",
      "state": {
       "_dom_classes": [],
       "_model_module": "@jupyter-widgets/controls",
       "_model_module_version": "1.5.0",
       "_model_name": "HTMLModel",
       "_view_count": null,
       "_view_module": "@jupyter-widgets/controls",
       "_view_module_version": "1.5.0",
       "_view_name": "HTMLView",
       "description": "",
       "description_tooltip": null,
       "layout": "IPY_MODEL_8cdbaab277d34c68b61677865bcd2f8c",
       "placeholder": "​",
       "style": "IPY_MODEL_107859421d22414aa214f2cb64e08872",
       "value": " 899k/899k [00:01&lt;00:00, 518kB/s]"
      }
     },
     "34d08acd10f64957a6c6e24440ac1555": {
      "model_module": "@jupyter-widgets/controls",
      "model_module_version": "1.5.0",
      "model_name": "DescriptionStyleModel",
      "state": {
       "_model_module": "@jupyter-widgets/controls",
       "_model_module_version": "1.5.0",
       "_model_name": "DescriptionStyleModel",
       "_view_count": null,
       "_view_module": "@jupyter-widgets/base",
       "_view_module_version": "1.2.0",
       "_view_name": "StyleView",
       "description_width": ""
      }
     },
     "4b83ec3b8f9b41998ec0a9911c6f36fa": {
      "model_module": "@jupyter-widgets/base",
      "model_module_version": "1.2.0",
      "model_name": "LayoutModel",
      "state": {
       "_model_module": "@jupyter-widgets/base",
       "_model_module_version": "1.2.0",
       "_model_name": "LayoutModel",
       "_view_count": null,
       "_view_module": "@jupyter-widgets/base",
       "_view_module_version": "1.2.0",
       "_view_name": "LayoutView",
       "align_content": null,
       "align_items": null,
       "align_self": null,
       "border": null,
       "bottom": null,
       "display": null,
       "flex": null,
       "flex_flow": null,
       "grid_area": null,
       "grid_auto_columns": null,
       "grid_auto_flow": null,
       "grid_auto_rows": null,
       "grid_column": null,
       "grid_gap": null,
       "grid_row": null,
       "grid_template_areas": null,
       "grid_template_columns": null,
       "grid_template_rows": null,
       "height": null,
       "justify_content": null,
       "justify_items": null,
       "left": null,
       "margin": null,
       "max_height": null,
       "max_width": null,
       "min_height": null,
       "min_width": null,
       "object_fit": null,
       "object_position": null,
       "order": null,
       "overflow": null,
       "overflow_x": null,
       "overflow_y": null,
       "padding": null,
       "right": null,
       "top": null,
       "visibility": null,
       "width": null
      }
     },
     "510f90b8b7544812abeb3c5eb2506829": {
      "model_module": "@jupyter-widgets/base",
      "model_module_version": "1.2.0",
      "model_name": "LayoutModel",
      "state": {
       "_model_module": "@jupyter-widgets/base",
       "_model_module_version": "1.2.0",
       "_model_name": "LayoutModel",
       "_view_count": null,
       "_view_module": "@jupyter-widgets/base",
       "_view_module_version": "1.2.0",
       "_view_name": "LayoutView",
       "align_content": null,
       "align_items": null,
       "align_self": null,
       "border": null,
       "bottom": null,
       "display": null,
       "flex": null,
       "flex_flow": null,
       "grid_area": null,
       "grid_auto_columns": null,
       "grid_auto_flow": null,
       "grid_auto_rows": null,
       "grid_column": null,
       "grid_gap": null,
       "grid_row": null,
       "grid_template_areas": null,
       "grid_template_columns": null,
       "grid_template_rows": null,
       "height": null,
       "justify_content": null,
       "justify_items": null,
       "left": null,
       "margin": null,
       "max_height": null,
       "max_width": null,
       "min_height": null,
       "min_width": null,
       "object_fit": null,
       "object_position": null,
       "order": null,
       "overflow": null,
       "overflow_x": null,
       "overflow_y": null,
       "padding": null,
       "right": null,
       "top": null,
       "visibility": null,
       "width": null
      }
     },
     "570483912e5f4870aa2f968362b79bfa": {
      "model_module": "@jupyter-widgets/base",
      "model_module_version": "1.2.0",
      "model_name": "LayoutModel",
      "state": {
       "_model_module": "@jupyter-widgets/base",
       "_model_module_version": "1.2.0",
       "_model_name": "LayoutModel",
       "_view_count": null,
       "_view_module": "@jupyter-widgets/base",
       "_view_module_version": "1.2.0",
       "_view_name": "LayoutView",
       "align_content": null,
       "align_items": null,
       "align_self": null,
       "border": null,
       "bottom": null,
       "display": null,
       "flex": null,
       "flex_flow": null,
       "grid_area": null,
       "grid_auto_columns": null,
       "grid_auto_flow": null,
       "grid_auto_rows": null,
       "grid_column": null,
       "grid_gap": null,
       "grid_row": null,
       "grid_template_areas": null,
       "grid_template_columns": null,
       "grid_template_rows": null,
       "height": null,
       "justify_content": null,
       "justify_items": null,
       "left": null,
       "margin": null,
       "max_height": null,
       "max_width": null,
       "min_height": null,
       "min_width": null,
       "object_fit": null,
       "object_position": null,
       "order": null,
       "overflow": null,
       "overflow_x": null,
       "overflow_y": null,
       "padding": null,
       "right": null,
       "top": null,
       "visibility": null,
       "width": null
      }
     },
     "71bf8719f04f433489e024caef98343d": {
      "model_module": "@jupyter-widgets/controls",
      "model_module_version": "1.5.0",
      "model_name": "FloatProgressModel",
      "state": {
       "_dom_classes": [],
       "_model_module": "@jupyter-widgets/controls",
       "_model_module_version": "1.5.0",
       "_model_name": "FloatProgressModel",
       "_view_count": null,
       "_view_module": "@jupyter-widgets/controls",
       "_view_module_version": "1.5.0",
       "_view_name": "ProgressView",
       "bar_style": "success",
       "description": "Downloading: 100%",
       "description_tooltip": null,
       "layout": "IPY_MODEL_570483912e5f4870aa2f968362b79bfa",
       "max": 898823.0,
       "min": 0.0,
       "orientation": "horizontal",
       "style": "IPY_MODEL_c4efb35975ea458b8d8bd8dd770c3643",
       "value": 898823.0
      }
     },
     "78778f2d5cf84e0bac6a21c81a724eca": {
      "model_module": "@jupyter-widgets/controls",
      "model_module_version": "1.5.0",
      "model_name": "HTMLModel",
      "state": {
       "_dom_classes": [],
       "_model_module": "@jupyter-widgets/controls",
       "_model_module_version": "1.5.0",
       "_model_name": "HTMLModel",
       "_view_count": null,
       "_view_module": "@jupyter-widgets/controls",
       "_view_module_version": "1.5.0",
       "_view_name": "HTMLView",
       "description": "",
       "description_tooltip": null,
       "layout": "IPY_MODEL_c47208ad118141429a989db9f83d1161",
       "placeholder": "​",
       "style": "IPY_MODEL_d2639af11f654c7590f6d8253c067eef",
       "value": " 456k/456k [00:00&lt;00:00, 1.05MB/s]"
      }
     },
     "78dbd8986f0146f9b413d2065ac146d5": {
      "model_module": "@jupyter-widgets/controls",
      "model_module_version": "1.5.0",
      "model_name": "HBoxModel",
      "state": {
       "_dom_classes": [],
       "_model_module": "@jupyter-widgets/controls",
       "_model_module_version": "1.5.0",
       "_model_name": "HBoxModel",
       "_view_count": null,
       "_view_module": "@jupyter-widgets/controls",
       "_view_module_version": "1.5.0",
       "_view_name": "HBoxView",
       "box_style": "",
       "children": [
        "IPY_MODEL_c16948de3e324a6cb6f93c61766b7609",
        "IPY_MODEL_78778f2d5cf84e0bac6a21c81a724eca"
       ],
       "layout": "IPY_MODEL_05defb286fac4c7698681bbe70494e71"
      }
     },
     "85bfe4624bd14f868c7e13a9c6f2ff16": {
      "model_module": "@jupyter-widgets/controls",
      "model_module_version": "1.5.0",
      "model_name": "ProgressStyleModel",
      "state": {
       "_model_module": "@jupyter-widgets/controls",
       "_model_module_version": "1.5.0",
       "_model_name": "ProgressStyleModel",
       "_view_count": null,
       "_view_module": "@jupyter-widgets/base",
       "_view_module_version": "1.2.0",
       "_view_name": "StyleView",
       "bar_color": null,
       "description_width": "initial"
      }
     },
     "862fabe4521a4935b5c14ffafc9ed5b3": {
      "model_module": "@jupyter-widgets/base",
      "model_module_version": "1.2.0",
      "model_name": "LayoutModel",
      "state": {
       "_model_module": "@jupyter-widgets/base",
       "_model_module_version": "1.2.0",
       "_model_name": "LayoutModel",
       "_view_count": null,
       "_view_module": "@jupyter-widgets/base",
       "_view_module_version": "1.2.0",
       "_view_name": "LayoutView",
       "align_content": null,
       "align_items": null,
       "align_self": null,
       "border": null,
       "bottom": null,
       "display": null,
       "flex": null,
       "flex_flow": null,
       "grid_area": null,
       "grid_auto_columns": null,
       "grid_auto_flow": null,
       "grid_auto_rows": null,
       "grid_column": null,
       "grid_gap": null,
       "grid_row": null,
       "grid_template_areas": null,
       "grid_template_columns": null,
       "grid_template_rows": null,
       "height": null,
       "justify_content": null,
       "justify_items": null,
       "left": null,
       "margin": null,
       "max_height": null,
       "max_width": null,
       "min_height": null,
       "min_width": null,
       "object_fit": null,
       "object_position": null,
       "order": null,
       "overflow": null,
       "overflow_x": null,
       "overflow_y": null,
       "padding": null,
       "right": null,
       "top": null,
       "visibility": null,
       "width": null
      }
     },
     "88568e3cc464429d80edf3fa94e056bf": {
      "model_module": "@jupyter-widgets/controls",
      "model_module_version": "1.5.0",
      "model_name": "HBoxModel",
      "state": {
       "_dom_classes": [],
       "_model_module": "@jupyter-widgets/controls",
       "_model_module_version": "1.5.0",
       "_model_name": "HBoxModel",
       "_view_count": null,
       "_view_module": "@jupyter-widgets/controls",
       "_view_module_version": "1.5.0",
       "_view_name": "HBoxView",
       "box_style": "",
       "children": [
        "IPY_MODEL_a33ad3ecb77f4b7baab87e5f0f3c1622",
        "IPY_MODEL_247451dbd9db4b8e99a299308dae6dba"
       ],
       "layout": "IPY_MODEL_18673b631ed14315889811456d867b81"
      }
     },
     "8cdbaab277d34c68b61677865bcd2f8c": {
      "model_module": "@jupyter-widgets/base",
      "model_module_version": "1.2.0",
      "model_name": "LayoutModel",
      "state": {
       "_model_module": "@jupyter-widgets/base",
       "_model_module_version": "1.2.0",
       "_model_name": "LayoutModel",
       "_view_count": null,
       "_view_module": "@jupyter-widgets/base",
       "_view_module_version": "1.2.0",
       "_view_name": "LayoutView",
       "align_content": null,
       "align_items": null,
       "align_self": null,
       "border": null,
       "bottom": null,
       "display": null,
       "flex": null,
       "flex_flow": null,
       "grid_area": null,
       "grid_auto_columns": null,
       "grid_auto_flow": null,
       "grid_auto_rows": null,
       "grid_column": null,
       "grid_gap": null,
       "grid_row": null,
       "grid_template_areas": null,
       "grid_template_columns": null,
       "grid_template_rows": null,
       "height": null,
       "justify_content": null,
       "justify_items": null,
       "left": null,
       "margin": null,
       "max_height": null,
       "max_width": null,
       "min_height": null,
       "min_width": null,
       "object_fit": null,
       "object_position": null,
       "order": null,
       "overflow": null,
       "overflow_x": null,
       "overflow_y": null,
       "padding": null,
       "right": null,
       "top": null,
       "visibility": null,
       "width": null
      }
     },
     "9b9ff1eea67e44b7bcb67d96ee4cc618": {
      "model_module": "@jupyter-widgets/controls",
      "model_module_version": "1.5.0",
      "model_name": "ProgressStyleModel",
      "state": {
       "_model_module": "@jupyter-widgets/controls",
       "_model_module_version": "1.5.0",
       "_model_name": "ProgressStyleModel",
       "_view_count": null,
       "_view_module": "@jupyter-widgets/base",
       "_view_module_version": "1.2.0",
       "_view_name": "StyleView",
       "bar_color": null,
       "description_width": "initial"
      }
     },
     "a10456ed4bfb4433a4c2916856b3f92e": {
      "model_module": "@jupyter-widgets/controls",
      "model_module_version": "1.5.0",
      "model_name": "DescriptionStyleModel",
      "state": {
       "_model_module": "@jupyter-widgets/controls",
       "_model_module_version": "1.5.0",
       "_model_name": "DescriptionStyleModel",
       "_view_count": null,
       "_view_module": "@jupyter-widgets/base",
       "_view_module_version": "1.2.0",
       "_view_name": "StyleView",
       "description_width": ""
      }
     },
     "a33ad3ecb77f4b7baab87e5f0f3c1622": {
      "model_module": "@jupyter-widgets/controls",
      "model_module_version": "1.5.0",
      "model_name": "FloatProgressModel",
      "state": {
       "_dom_classes": [],
       "_model_module": "@jupyter-widgets/controls",
       "_model_module_version": "1.5.0",
       "_model_name": "FloatProgressModel",
       "_view_count": null,
       "_view_module": "@jupyter-widgets/controls",
       "_view_module_version": "1.5.0",
       "_view_name": "ProgressView",
       "bar_style": "success",
       "description": "Downloading: 100%",
       "description_tooltip": null,
       "layout": "IPY_MODEL_4b83ec3b8f9b41998ec0a9911c6f36fa",
       "max": 501200538.0,
       "min": 0.0,
       "orientation": "horizontal",
       "style": "IPY_MODEL_9b9ff1eea67e44b7bcb67d96ee4cc618",
       "value": 501200538.0
      }
     },
     "c16948de3e324a6cb6f93c61766b7609": {
      "model_module": "@jupyter-widgets/controls",
      "model_module_version": "1.5.0",
      "model_name": "FloatProgressModel",
      "state": {
       "_dom_classes": [],
       "_model_module": "@jupyter-widgets/controls",
       "_model_module_version": "1.5.0",
       "_model_name": "FloatProgressModel",
       "_view_count": null,
       "_view_module": "@jupyter-widgets/controls",
       "_view_module_version": "1.5.0",
       "_view_name": "ProgressView",
       "bar_style": "success",
       "description": "Downloading: 100%",
       "description_tooltip": null,
       "layout": "IPY_MODEL_10bc2425fa8d4571af961f2d91a1b2af",
       "max": 456318.0,
       "min": 0.0,
       "orientation": "horizontal",
       "style": "IPY_MODEL_081f3d3968274519a5937de235708a0f",
       "value": 456318.0
      }
     },
     "c47208ad118141429a989db9f83d1161": {
      "model_module": "@jupyter-widgets/base",
      "model_module_version": "1.2.0",
      "model_name": "LayoutModel",
      "state": {
       "_model_module": "@jupyter-widgets/base",
       "_model_module_version": "1.2.0",
       "_model_name": "LayoutModel",
       "_view_count": null,
       "_view_module": "@jupyter-widgets/base",
       "_view_module_version": "1.2.0",
       "_view_name": "LayoutView",
       "align_content": null,
       "align_items": null,
       "align_self": null,
       "border": null,
       "bottom": null,
       "display": null,
       "flex": null,
       "flex_flow": null,
       "grid_area": null,
       "grid_auto_columns": null,
       "grid_auto_flow": null,
       "grid_auto_rows": null,
       "grid_column": null,
       "grid_gap": null,
       "grid_row": null,
       "grid_template_areas": null,
       "grid_template_columns": null,
       "grid_template_rows": null,
       "height": null,
       "justify_content": null,
       "justify_items": null,
       "left": null,
       "margin": null,
       "max_height": null,
       "max_width": null,
       "min_height": null,
       "min_width": null,
       "object_fit": null,
       "object_position": null,
       "order": null,
       "overflow": null,
       "overflow_x": null,
       "overflow_y": null,
       "padding": null,
       "right": null,
       "top": null,
       "visibility": null,
       "width": null
      }
     },
     "c4efb35975ea458b8d8bd8dd770c3643": {
      "model_module": "@jupyter-widgets/controls",
      "model_module_version": "1.5.0",
      "model_name": "ProgressStyleModel",
      "state": {
       "_model_module": "@jupyter-widgets/controls",
       "_model_module_version": "1.5.0",
       "_model_name": "ProgressStyleModel",
       "_view_count": null,
       "_view_module": "@jupyter-widgets/base",
       "_view_module_version": "1.2.0",
       "_view_name": "StyleView",
       "bar_color": null,
       "description_width": "initial"
      }
     },
     "d2639af11f654c7590f6d8253c067eef": {
      "model_module": "@jupyter-widgets/controls",
      "model_module_version": "1.5.0",
      "model_name": "DescriptionStyleModel",
      "state": {
       "_model_module": "@jupyter-widgets/controls",
       "_model_module_version": "1.5.0",
       "_model_name": "DescriptionStyleModel",
       "_view_count": null,
       "_view_module": "@jupyter-widgets/base",
       "_view_module_version": "1.2.0",
       "_view_name": "StyleView",
       "description_width": ""
      }
     },
     "eb2bec7060df4f8fa8015dbe71177817": {
      "model_module": "@jupyter-widgets/base",
      "model_module_version": "1.2.0",
      "model_name": "LayoutModel",
      "state": {
       "_model_module": "@jupyter-widgets/base",
       "_model_module_version": "1.2.0",
       "_model_name": "LayoutModel",
       "_view_count": null,
       "_view_module": "@jupyter-widgets/base",
       "_view_module_version": "1.2.0",
       "_view_name": "LayoutView",
       "align_content": null,
       "align_items": null,
       "align_self": null,
       "border": null,
       "bottom": null,
       "display": null,
       "flex": null,
       "flex_flow": null,
       "grid_area": null,
       "grid_auto_columns": null,
       "grid_auto_flow": null,
       "grid_auto_rows": null,
       "grid_column": null,
       "grid_gap": null,
       "grid_row": null,
       "grid_template_areas": null,
       "grid_template_columns": null,
       "grid_template_rows": null,
       "height": null,
       "justify_content": null,
       "justify_items": null,
       "left": null,
       "margin": null,
       "max_height": null,
       "max_width": null,
       "min_height": null,
       "min_width": null,
       "object_fit": null,
       "object_position": null,
       "order": null,
       "overflow": null,
       "overflow_x": null,
       "overflow_y": null,
       "padding": null,
       "right": null,
       "top": null,
       "visibility": null,
       "width": null
      }
     },
     "f2f7273fa04c40728c89074c08986eea": {
      "model_module": "@jupyter-widgets/base",
      "model_module_version": "1.2.0",
      "model_name": "LayoutModel",
      "state": {
       "_model_module": "@jupyter-widgets/base",
       "_model_module_version": "1.2.0",
       "_model_name": "LayoutModel",
       "_view_count": null,
       "_view_module": "@jupyter-widgets/base",
       "_view_module_version": "1.2.0",
       "_view_name": "LayoutView",
       "align_content": null,
       "align_items": null,
       "align_self": null,
       "border": null,
       "bottom": null,
       "display": null,
       "flex": null,
       "flex_flow": null,
       "grid_area": null,
       "grid_auto_columns": null,
       "grid_auto_flow": null,
       "grid_auto_rows": null,
       "grid_column": null,
       "grid_gap": null,
       "grid_row": null,
       "grid_template_areas": null,
       "grid_template_columns": null,
       "grid_template_rows": null,
       "height": null,
       "justify_content": null,
       "justify_items": null,
       "left": null,
       "margin": null,
       "max_height": null,
       "max_width": null,
       "min_height": null,
       "min_width": null,
       "object_fit": null,
       "object_position": null,
       "order": null,
       "overflow": null,
       "overflow_x": null,
       "overflow_y": null,
       "padding": null,
       "right": null,
       "top": null,
       "visibility": null,
       "width": null
      }
     },
     "f986aa0ebe8048fc9ab02e7c836501eb": {
      "model_module": "@jupyter-widgets/controls",
      "model_module_version": "1.5.0",
      "model_name": "HBoxModel",
      "state": {
       "_dom_classes": [],
       "_model_module": "@jupyter-widgets/controls",
       "_model_module_version": "1.5.0",
       "_model_name": "HBoxModel",
       "_view_count": null,
       "_view_module": "@jupyter-widgets/controls",
       "_view_module_version": "1.5.0",
       "_view_name": "HBoxView",
       "box_style": "",
       "children": [
        "IPY_MODEL_71bf8719f04f433489e024caef98343d",
        "IPY_MODEL_33c24225eb134358afe7770ad561a4f8"
       ],
       "layout": "IPY_MODEL_862fabe4521a4935b5c14ffafc9ed5b3"
      }
     },
     "facda61ff45a4006881be68df916b67e": {
      "model_module": "@jupyter-widgets/controls",
      "model_module_version": "1.5.0",
      "model_name": "FloatProgressModel",
      "state": {
       "_dom_classes": [],
       "_model_module": "@jupyter-widgets/controls",
       "_model_module_version": "1.5.0",
       "_model_name": "FloatProgressModel",
       "_view_count": null,
       "_view_module": "@jupyter-widgets/controls",
       "_view_module_version": "1.5.0",
       "_view_name": "ProgressView",
       "bar_style": "success",
       "description": "Downloading: 100%",
       "description_tooltip": null,
       "layout": "IPY_MODEL_f2f7273fa04c40728c89074c08986eea",
       "max": 481.0,
       "min": 0.0,
       "orientation": "horizontal",
       "style": "IPY_MODEL_85bfe4624bd14f868c7e13a9c6f2ff16",
       "value": 481.0
      }
     }
    },
    "version_major": 2,
    "version_minor": 0
   }
  }
 },
 "nbformat": 4,
 "nbformat_minor": 4
}
